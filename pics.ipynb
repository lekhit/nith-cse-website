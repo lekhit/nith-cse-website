{
 "cells": [
  {
   "cell_type": "code",
   "execution_count": 1,
   "metadata": {},
   "outputs": [
    {
     "name": "stdout",
     "output_type": "stream",
     "text": [
      "hello\n"
     ]
    }
   ],
   "source": [
    "print('hello')\n"
   ]
  },
  {
   "cell_type": "code",
   "execution_count": 2,
   "metadata": {},
   "outputs": [
    {
     "data": {
      "text/plain": [
       "['middleware/deta.js',\n",
       " 'components/facultycard.js',\n",
       " 'components/Navbar.js',\n",
       " 'components/Header.js',\n",
       " 'components/usercard.js',\n",
       " 'components/StudentGrid.js',\n",
       " 'components/Announcements.js',\n",
       " 'components/MainGrid.js',\n",
       " 'components/Footer.js',\n",
       " 'components/Loader.js',\n",
       " 'assets/studentData.js',\n",
       " 'assets/facultyData.js',\n",
       " 'pages/_app.js',\n",
       " 'pages/about.js',\n",
       " 'pages/index.js',\n",
       " 'pages/faculty.js',\n",
       " 'pages/_document.js']"
      ]
     },
     "execution_count": 2,
     "metadata": {},
     "output_type": "execute_result"
    }
   ],
   "source": [
    "import glob\n",
    "files= glob.glob(\"**/**.js\")\n",
    "files\n",
    "\n"
   ]
  },
  {
   "cell_type": "code",
   "execution_count": 4,
   "metadata": {},
   "outputs": [
    {
     "name": "stdout",
     "output_type": "stream",
     "text": [
      "import React, { useState } from 'react';\n",
      "import Link from 'next/link';\n",
      "import * as FaIcons from \"react-icons/fa\";\n",
      "import { AiOutlineRight } from \"react-icons/ai\";\n",
      "import { useRouter } from 'next/router';\n",
      "import Fade from 'react-reveal/Fade';\n",
      "\n",
      "function FacultyCard({ user }) {\n",
      "    const [detailActive, setDetailActive] = useState(false);\n",
      "    return (\n",
      "        <Fade left>\n",
      "            <div className=\"box center\">\n",
      "                <img src={user.img} alt=\"\" />\n",
      "                <div className='card-text'>\n",
      "                    <p className=\"user_name\" style={{ fontSize: '1.6em' }}>{user.name}</p>\n",
      "                    <p className=\"skill\">{user.role}</p>\n",
      "                </div>\n",
      "                <div className=\"arr_container center\" onClick={() => setDetailActive(true)} >\n",
      "                    <FaIcons.FaArrowRight className=\"fas\" />\n",
      "                </div>\n",
      "                <div className={detailActive ? \"left_container active\" : \"left_container off\"} style={{ width: '96%', left: '-9.5%', height: '101%' }}>\n",
      "                    <div className=\"left_container_data faculty_left_container_data\">\n",
      "                        <p>Areas of Interests</p>\n",
      "                        <div className=\"skills areas\">\n",
      "                            {user.areas.map((area) => {\n",
      "                                return <div key={area}>{area}</div>\n",
      "                            })}\n",
      "                        </div>\n",
      "                        <div className='findMore'><a href={user.findMore} target='_blank'>Find More <AiOutlineRight /></a></div>\n",
      "                    </div>\n",
      "                    <div className=\"cancel center\" onClick={() => setDetailActive(false)} id='f_cross'> <FaIcons.FaTimes className=\"fas\" />\n",
      "                    </div>\n",
      "                </div>\n",
      "            </div>\n",
      "        </Fade>\n",
      "    );\n",
      "}\n",
      "\n",
      "export default FacultyCard;\n"
     ]
    }
   ],
   "source": [
    "with open(files[1],'r') as f:\n",
    "  \n",
    "    print(f.read())"
   ]
  },
  {
   "cell_type": "code",
   "execution_count": null,
   "metadata": {},
   "outputs": [],
   "source": []
  }
 ],
 "metadata": {
  "kernelspec": {
   "display_name": "Python 3",
   "language": "python",
   "name": "python3"
  },
  "language_info": {
   "codemirror_mode": {
    "name": "ipython",
    "version": 3
   },
   "file_extension": ".py",
   "mimetype": "text/x-python",
   "name": "python",
   "nbconvert_exporter": "python",
   "pygments_lexer": "ipython3",
   "version": "3.10.0"
  },
  "orig_nbformat": 4
 },
 "nbformat": 4,
 "nbformat_minor": 2
}
